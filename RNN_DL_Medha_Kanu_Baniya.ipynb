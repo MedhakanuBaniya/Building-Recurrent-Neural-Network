{
 "cells": [
  {
   "cell_type": "code",
   "execution_count": 17,
   "id": "99aac9a7",
   "metadata": {},
   "outputs": [],
   "source": [
    "import numpy as np\n",
    "import numpy as np\n",
    "import tensorflow as tf"
   ]
  },
  {
   "cell_type": "markdown",
   "id": "0196b6c3",
   "metadata": {},
   "source": [
    "# Problem 1. Gated Recurrent Unit"
   ]
  },
  {
   "cell_type": "code",
   "execution_count": 18,
   "id": "12e53795",
   "metadata": {},
   "outputs": [],
   "source": [
    "def sigmoid(x):\n",
    "    return 1 / (1 + np.exp(-x))\n"
   ]
  },
  {
   "cell_type": "code",
   "execution_count": 19,
   "id": "00dec260",
   "metadata": {},
   "outputs": [],
   "source": [
    "def gru_step(inputs, h_prev, Wz, Uz, Wr, Ur, W, U):\n",
    "    # Update gate\n",
    "    z = sigmoid(np.dot(Wz, inputs) + np.dot(Uz, h_prev))\n",
    "    # Reset gate\n",
    "    r = sigmoid(np.dot(Wr, inputs) + np.dot(Ur, h_prev))\n",
    "    # Candidate hidden state\n",
    "    h_candidate = np.tanh(np.dot(W, inputs) + np.dot(U, r * h_prev))\n",
    "    # New hidden state\n",
    "    h = (1 - z) * h_prev + z * h_candidate\n",
    "    return h"
   ]
  },
  {
   "cell_type": "code",
   "execution_count": 20,
   "id": "45b1b8e3",
   "metadata": {},
   "outputs": [],
   "source": [
    "def gru_forward(inputs, h_init, Wz, Uz, Wr, Ur, W, U):\n",
    "    h_states = []\n",
    "    h_current = h_init\n",
    "    for inp in inputs:\n",
    "        h_current = gru_step(inp, h_current, Wz, Uz, Wr, Ur, W, U)\n",
    "        h_states.append(h_current)\n",
    "    return h_states"
   ]
  },
  {
   "cell_type": "code",
   "execution_count": 21,
   "id": "6b3f9ec3",
   "metadata": {},
   "outputs": [
    {
     "name": "stdout",
     "output_type": "stream",
     "text": [
      "[array([[-0.0931917 ,  0.06687671,  0.00214862],\n",
      "       [-0.0931917 ,  0.06687671,  0.00214862],\n",
      "       [-0.0931917 ,  0.06687671,  0.00214862]]), array([[-0.20048225,  0.1510549 ,  0.00484686],\n",
      "       [-0.29237915,  0.18321482,  0.00612897],\n",
      "       [-0.20977263,  0.1401135 ,  0.00476371]]), array([[-0.29224272,  0.23749762,  0.00769729],\n",
      "       [-0.51813958,  0.30242764,  0.01084509],\n",
      "       [-0.29750325,  0.20192637,  0.0073227 ]])]\n"
     ]
    }
   ],
   "source": [
    "# Example \n",
    "inputs = np.array([[0.1], [0.2], [0.3]])\n",
    "h_init = np.zeros((3, 1)) \n",
    "Wz, Uz, Wr, Ur, W, U = np.random.randn(3, 1), np.random.randn(3, 3), np.random.randn(3, 1), np.random.randn(3, 3), np.random.randn(3, 1), np.random.randn(3, 3)\n",
    "hidden_states = gru_forward(inputs, h_init, Wz, Uz, Wr, Ur, W, U)\n",
    "print(hidden_states)"
   ]
  },
  {
   "cell_type": "markdown",
   "id": "d6497c9f",
   "metadata": {},
   "source": [
    "# Problem 2. Long Short-Term Memory"
   ]
  },
  {
   "cell_type": "code",
   "execution_count": 22,
   "id": "d6f176d6",
   "metadata": {},
   "outputs": [],
   "source": [
    "def sigmoid(x):\n",
    "    return 1 / (1 + np.exp(-x))\n",
    "\n",
    "def tanh(x):\n",
    "    return np.tanh(x)"
   ]
  },
  {
   "cell_type": "code",
   "execution_count": 23,
   "id": "6071c71f",
   "metadata": {},
   "outputs": [],
   "source": [
    "def lstm_cell(x, h_prev, c_prev, Wf, Uf, Wi, Ui, Wc, Uc, Wo, Uo):\n",
    "    f_t = sigmoid(np.dot(Wf, x) + np.dot(Uf, h_prev))\n",
    "    i_t = sigmoid(np.dot(Wi, x) + np.dot(Ui, h_prev))\n",
    "    c_tilde_t = tanh(np.dot(Wc, x) + np.dot(Uc, h_prev))\n",
    "    c_t = f_t * c_prev + i_t * c_tilde_t\n",
    "    o_t = sigmoid(np.dot(Wo, x) + np.dot(Uo, h_prev))\n",
    "    h_t = o_t * tanh(c_t)\n",
    "    return h_t, c_t\n"
   ]
  },
  {
   "cell_type": "code",
   "execution_count": 24,
   "id": "4bfb3092",
   "metadata": {},
   "outputs": [
    {
     "name": "stdout",
     "output_type": "stream",
     "text": [
      "Time step: 1\n",
      "Hidden state (h): [ 0.31328697 -0.11548203 -0.36874658]\n",
      "Memory cell (c): [ 0.56313897 -0.31658079 -0.55689163]\n",
      "Time step: 2\n",
      "Hidden state (h): [0.1505435  0.08375601 0.01007954]\n",
      "Memory cell (c): [0.51763183 0.30124167 0.0806654 ]\n",
      "Time step: 3\n",
      "Hidden state (h): [ 0.22690825 -0.05230024  0.0765205 ]\n",
      "Memory cell (c): [ 0.82315139 -0.15147705  0.12766167]\n",
      "Time step: 4\n",
      "Hidden state (h): [0.08714578 0.00126751 0.08375854]\n",
      "Memory cell (c): [0.81973658 0.00563008 0.25202734]\n",
      "Time step: 5\n",
      "Hidden state (h): [ 0.47595655 -0.04167024 -0.42712795]\n",
      "Memory cell (c): [ 0.69756638 -0.06250461 -0.56717271]\n"
     ]
    }
   ],
   "source": [
    "# Example\n",
    "input_sequence = np.random.randn(5, 2)  # Example input sequence\n",
    "h_prev = np.zeros(3)  # Initial hidden state\n",
    "c_prev = np.zeros(3)  # Initial memory cell\n",
    "Wf, Uf, Wi, Ui, Wc, Uc, Wo, Uo = np.random.randn(3, 2), np.random.randn(3, 3), np.random.randn(3, 2), np.random.randn(3, 3), np.random.randn(3, 2), np.random.randn(3, 3), np.random.randn(3, 2), np.random.randn(3, 3)  # Weight matrices\n",
    "for t in range(len(input_sequence)):\n",
    "    h_prev, c_prev = lstm_cell(input_sequence[t], h_prev, c_prev, Wf, Uf, Wi, Ui, Wc, Uc, Wo, Uo)\n",
    "    print(\"Time step:\", t+1)\n",
    "    print(\"Hidden state (h):\", h_prev)\n",
    "    print(\"Memory cell (c):\", c_prev)\n"
   ]
  },
  {
   "cell_type": "markdown",
   "id": "6ae9367d",
   "metadata": {},
   "source": [
    "# Problem 3. Recurrent Neural Network"
   ]
  },
  {
   "cell_type": "code",
   "execution_count": 25,
   "id": "2fedeaf8",
   "metadata": {},
   "outputs": [],
   "source": [
    "def rnn_backpropagation(W, U, V, x, y, k, g, g_prime, e_prime):\n",
    "    delta_W = np.zeros_like(W)\n",
    "    delta_U = np.zeros_like(U)\n",
    "    delta_V = np.zeros_like(V)\n",
    "\n",
    "    h = np.zeros((k+1, W.shape[0]))  \n",
    "    h_prime = np.zeros_like(h)  \n",
    "    h[0] = np.zeros_like(h[0])\n",
    "\n",
    "    for t in range(1, k+1):\n",
    "        h[t] = g(np.dot(U, x[t-1]) + np.dot(W, h[t-1]))\n",
    "        h_prime[t] = g_prime(np.dot(U, x[t-1]) + np.dot(W, h[t-1]))\n",
    "\n",
    "    delta = np.zeros_like(h[0])\n",
    "\n",
    "    for t in range(k, 0, -1):\n",
    "        delta = delta + e_prime(y[t-1], h[t]) * g_prime(np.dot(U, x[t-1]) + np.dot(W, h[t-1]))\n",
    "\n",
    "        delta_W += np.outer(delta, h[t-1])\n",
    "        delta_U += np.outer(delta, x[t-1])\n",
    "        delta_V += e_prime(y[t-1], h[t]) * h_prime[t-1]\n",
    "\n",
    "    return delta_W, delta_U, delta_V"
   ]
  },
  {
   "cell_type": "code",
   "execution_count": 26,
   "id": "bfc9b601",
   "metadata": {},
   "outputs": [],
   "source": [
    "def sigmoid(x):\n",
    "    return 1 / (1 + np.exp(-x))\n",
    "\n",
    "def sigmoid_prime(x):\n",
    "    return sigmoid(x) * (1 - sigmoid(x))\n",
    "\n",
    "def error_prime(y_true, y_pred):\n",
    "    return y_pred - y_true"
   ]
  },
  {
   "cell_type": "code",
   "execution_count": 27,
   "id": "a8117d1a",
   "metadata": {},
   "outputs": [
    {
     "name": "stdout",
     "output_type": "stream",
     "text": [
      "Gradients for W:\n",
      "[[ 0.0440191   0.06753547  0.0353868   0.0548636 ]\n",
      " [ 0.01357404  0.02095981 -0.02631711  0.04746359]\n",
      " [ 0.01561864  0.02392899  0.02189005  0.01180794]\n",
      " [-0.06038355 -0.0924676  -0.09705036 -0.03546004]]\n",
      "Gradients for U:\n",
      "[[ 0.0706328   0.1701745   0.22674784]\n",
      " [ 0.14448086  0.19044149  0.12261476]\n",
      " [-0.00950092 -0.01986365  0.11762277]\n",
      " [ 0.0531285  -0.17209973 -0.11169706]]\n",
      "Gradients for V:\n",
      "[[0.1102165  0.02008674 0.2360739  0.01215762]]\n"
     ]
    }
   ],
   "source": [
    "# Example\n",
    "W = np.random.randn(4, 4)\n",
    "U = np.random.randn(4, 3)\n",
    "V = np.random.randn(1, 4)\n",
    "x = np.random.randn(3, 3)\n",
    "y = np.random.randn(3, 1)\n",
    "k = 3\n",
    "\n",
    "# Compute gradients\n",
    "gradients = rnn_backpropagation(W, U, V, x, y, k, sigmoid, sigmoid_prime, error_prime)\n",
    "print(\"Gradients for W:\")\n",
    "print(gradients[0])\n",
    "print(\"Gradients for U:\")\n",
    "print(gradients[1])\n",
    "print(\"Gradients for V:\")\n",
    "print(gradients[2])\n"
   ]
  },
  {
   "cell_type": "markdown",
   "id": "d14d5999",
   "metadata": {},
   "source": [
    "# Problem 4. Recurrent Neural Network"
   ]
  },
  {
   "cell_type": "code",
   "execution_count": 28,
   "id": "bddf3da3",
   "metadata": {},
   "outputs": [],
   "source": [
    "class BidirectionalRNN(tf.keras.Model):\n",
    "    def __init__(self, input_shape, hidden_units):\n",
    "        super(BidirectionalRNN, self).__init__()\n",
    "        self.forward_lstm = tf.keras.layers.LSTM(hidden_units, return_sequences=True)\n",
    "        self.backward_lstm = tf.keras.layers.LSTM(hidden_units, return_sequences=True, go_backwards=True)\n",
    "        self.concat_layer = tf.keras.layers.Concatenate()\n",
    "        self.output_layer = tf.keras.layers.Dense(1)\n",
    "\n",
    "    def call(self, inputs):\n",
    "        forward_output = self.forward_lstm(inputs)\n",
    "        backward_output = self.backward_lstm(inputs)\n",
    "        concatenated_output = self.concat_layer([forward_output, backward_output])\n",
    "        predictions = self.output_layer(concatenated_output)\n",
    "        return predictions"
   ]
  },
  {
   "cell_type": "code",
   "execution_count": 29,
   "id": "40a324c6",
   "metadata": {},
   "outputs": [
    {
     "name": "stdout",
     "output_type": "stream",
     "text": [
      "Epoch 1/10\n",
      "32/32 [==============================] - 2s 4ms/step - loss: 0.1119\n",
      "Epoch 2/10\n",
      "32/32 [==============================] - 0s 4ms/step - loss: 0.0882\n",
      "Epoch 3/10\n",
      "32/32 [==============================] - 0s 4ms/step - loss: 0.0860\n",
      "Epoch 4/10\n",
      "32/32 [==============================] - 0s 4ms/step - loss: 0.0849\n",
      "Epoch 5/10\n",
      "32/32 [==============================] - 0s 4ms/step - loss: 0.0840\n",
      "Epoch 6/10\n",
      "32/32 [==============================] - 0s 4ms/step - loss: 0.0836\n",
      "Epoch 7/10\n",
      "32/32 [==============================] - 0s 4ms/step - loss: 0.0834\n",
      "Epoch 8/10\n",
      "32/32 [==============================] - 0s 4ms/step - loss: 0.0827\n",
      "Epoch 9/10\n",
      "32/32 [==============================] - 0s 4ms/step - loss: 0.0828\n",
      "Epoch 10/10\n",
      "32/32 [==============================] - 0s 4ms/step - loss: 0.0823\n"
     ]
    },
    {
     "data": {
      "text/plain": [
       "<keras.src.callbacks.History at 0x2e3c16cd5e0>"
      ]
     },
     "execution_count": 29,
     "metadata": {},
     "output_type": "execute_result"
    }
   ],
   "source": [
    "sequence_length = 10  \n",
    "input_dim = 32  \n",
    "hidden_units = 64 \n",
    "learning_rate = 0.001\n",
    "batch_size = 32\n",
    "epochs = 10\n",
    "\n",
    "# Creating a for example\n",
    "X_train = np.random.rand(1000, sequence_length, input_dim)\n",
    "y_train = np.random.rand(1000, sequence_length, 1)\n",
    "model = BidirectionalRNN((sequence_length, input_dim), hidden_units)\n",
    "model.compile(optimizer=tf.keras.optimizers.Adam(learning_rate),\n",
    "              loss='mean_squared_error')\n",
    "model.fit(X_train, y_train, batch_size=batch_size, epochs=epochs)\n"
   ]
  },
  {
   "cell_type": "code",
   "execution_count": null,
   "id": "b3f5f3ba",
   "metadata": {},
   "outputs": [],
   "source": []
  },
  {
   "cell_type": "code",
   "execution_count": null,
   "id": "63d7239d",
   "metadata": {},
   "outputs": [],
   "source": []
  }
 ],
 "metadata": {
  "kernelspec": {
   "display_name": "Python 3 (ipykernel)",
   "language": "python",
   "name": "python3"
  },
  "language_info": {
   "codemirror_mode": {
    "name": "ipython",
    "version": 3
   },
   "file_extension": ".py",
   "mimetype": "text/x-python",
   "name": "python",
   "nbconvert_exporter": "python",
   "pygments_lexer": "ipython3",
   "version": "3.9.13"
  }
 },
 "nbformat": 4,
 "nbformat_minor": 5
}
